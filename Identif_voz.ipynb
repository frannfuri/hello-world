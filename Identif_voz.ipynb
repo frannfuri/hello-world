{
  "nbformat": 4,
  "nbformat_minor": 0,
  "metadata": {
    "colab": {
      "name": "Identif_voz.ipynb",
      "version": "0.3.2",
      "provenance": [],
      "include_colab_link": true
    },
    "kernelspec": {
      "name": "python3",
      "display_name": "Python 3"
    },
    "accelerator": "GPU"
  },
  "cells": [
    {
      "cell_type": "markdown",
      "metadata": {
        "id": "view-in-github",
        "colab_type": "text"
      },
      "source": [
        "<a href=\"https://colab.research.google.com/github/frannfuri/hello-world/blob/master/Identif_voz.ipynb\" target=\"_parent\"><img src=\"https://colab.research.google.com/assets/colab-badge.svg\" alt=\"Open In Colab\"/></a>"
      ]
    },
    {
      "cell_type": "code",
      "metadata": {
        "id": "WeyM5UQFqiGY",
        "colab_type": "code",
        "colab": {
          "base_uri": "https://localhost:8080/",
          "height": 122
        },
        "outputId": "c440c778-ef56-4341-8d22-a062412645e1"
      },
      "source": [
        "# Montar directorio google drive en Colaboratory\n",
        "from google.colab import drive\n",
        "drive.mount('/content/drive')"
      ],
      "execution_count": 1,
      "outputs": [
        {
          "output_type": "stream",
          "text": [
            "Go to this URL in a browser: https://accounts.google.com/o/oauth2/auth?client_id=947318989803-6bn6qk8qdgf4n4g3pfee6491hc0brc4i.apps.googleusercontent.com&redirect_uri=urn%3Aietf%3Awg%3Aoauth%3A2.0%3Aoob&scope=email%20https%3A%2F%2Fwww.googleapis.com%2Fauth%2Fdocs.test%20https%3A%2F%2Fwww.googleapis.com%2Fauth%2Fdrive%20https%3A%2F%2Fwww.googleapis.com%2Fauth%2Fdrive.photos.readonly%20https%3A%2F%2Fwww.googleapis.com%2Fauth%2Fpeopleapi.readonly&response_type=code\n",
            "\n",
            "Enter your authorization code:\n",
            "··········\n",
            "Mounted at /content/drive\n"
          ],
          "name": "stdout"
        }
      ]
    },
    {
      "cell_type": "code",
      "metadata": {
        "id": "OzcUTdgkqoXO",
        "colab_type": "code",
        "colab": {
          "base_uri": "https://localhost:8080/",
          "height": 34
        },
        "outputId": "a8c42fd6-c809-4b8d-b0c4-7a9dd93993b5"
      },
      "source": [
        "%cd /content/drive/My Drive/Colab Notebooks/Proyecto_Aprendizaje"
      ],
      "execution_count": 3,
      "outputs": [
        {
          "output_type": "stream",
          "text": [
            "/content/drive/My Drive/Colab Notebooks/Proyecto_Aprendizaje\n"
          ],
          "name": "stdout"
        }
      ]
    },
    {
      "cell_type": "code",
      "metadata": {
        "id": "c_bmYU8cq94F",
        "colab_type": "code",
        "colab": {
          "base_uri": "https://localhost:8080/",
          "height": 34
        },
        "outputId": "33588768-4b4e-418c-a936-436528a98ae8"
      },
      "source": [
        "!ls"
      ],
      "execution_count": 4,
      "outputs": [
        {
          "output_type": "stream",
          "text": [
            "Identif_voz.ipynb\n"
          ],
          "name": "stdout"
        }
      ]
    },
    {
      "cell_type": "markdown",
      "metadata": {
        "id": "6SinNt00rfE5",
        "colab_type": "text"
      },
      "source": [
        "# Extraccion de features"
      ]
    },
    {
      "cell_type": "code",
      "metadata": {
        "id": "7QynBvOnreQY",
        "colab_type": "code",
        "colab": {}
      },
      "source": [
        "import os\n",
        "from keras.applications.vgg19 import VGG19\n",
        "from keras.preprocessing import image\n",
        "from keras.applications.vgg19 import preprocess_input\n",
        "from keras.models import Model\n",
        "import numpy as np\n",
        "\n",
        "base_model = VGG19(weights='imagenet')\n",
        "model = Model(inputs=base_model.input, outputs=base_model.get_layer('flatten').output)\n",
        "\n",
        "def get_features(img_path):\n",
        "    img = image.load_img(img_path, target_size=(224, 224))\n",
        "    x = image.img_to_array(img) # transforma imagen a un numpy array\n",
        "    x = np.expand_dims(x, axis=0) # agrega un eje en la posicion axis=0\n",
        "    x = preprocess_input(x)\n",
        "    flatten = model.predict(x)\n",
        "    return list(flatten[0])\n",
        "\n",
        "X = []\n",
        "y = []\n",
        "num_classes = 20\n",
        "\n",
        "\n",
        "audio_espectograms = []\n",
        "ids = []\n",
        "\n",
        "for img_filename in os.listdir('/content/drive/My Drive/Colab Notebooks/Proyecto_Aprendizaje/train'):\n",
        "    if img_filename.endswith(\".jpg\"):\n",
        "        ids.append(img_filename.split('-')[0])\n",
        "        path = '/content/drive/My Drive/Colab Notebooks/Proyecto_Aprendizaje/train' + img_filename\n",
        "        audio_espectograms.append(path)\n",
        "        \n",
        "for i in len(audio_espectograms):\n",
        "  X.append(get_features(audio_espectograms[i]))\n",
        "  y.append(ids[i])\n",
        "        \n",
        "\n",
        "################################# Hasta aqui nomas pescar #########################  \n",
        "\n",
        "from sklearn.model_selection import train_test_split\n",
        "from sklearn.svm import LinearSVC\n",
        "from sklearn.metrics import accuracy_score\n",
        "\n",
        "X_train, X_test, y_train, y_test = train_test_split(X, y, test_size=0.30, random_state=42, stratify=y)\n",
        "\n",
        "clf = LinearSVC(random_state=0, tol=1e-5)\n",
        "clf.fit(X_train, y_train)\n",
        "\n",
        "predicted = clf.predict(X_test)\n",
        "\n",
        "# get the accuracy\n",
        "print (accuracy_score(y_test, predicted))"
      ],
      "execution_count": 0,
      "outputs": []
    },
    {
      "cell_type": "code",
      "metadata": {
        "id": "lN_HTwXTrCQz",
        "colab_type": "code",
        "colab": {}
      },
      "source": [
        ""
      ],
      "execution_count": 0,
      "outputs": []
    }
  ]
}